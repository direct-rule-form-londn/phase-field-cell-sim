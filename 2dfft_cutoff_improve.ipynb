{
  "cells": [
    {
      "cell_type": "code",
      "execution_count": 1,
      "metadata": {
        "id": "B8X4wUaNE1V3"
      },
      "outputs": [],
      "source": [
        "import numpy as np\n",
        "import matplotlib.pyplot as plt\n",
        "from matplotlib import animation\n",
        "import math\n",
        "from mpl_toolkits.mplot3d import Axes3D\n",
        "from scipy.integrate import solve_ivp\n",
        "from numpy.fft import fft, ifft, fftfreq, rfft, irfft, rfft2, irfft2, fft2, ifft2\n",
        "from scipy.fftpack import diff as psdiff\n",
        "from sympy import *\n",
        "from numpy import pi,fliplr,concatenate"
      ]
    },
    {
      "cell_type": "code",
      "execution_count": 2,
      "metadata": {
        "id": "Uuqn--4fE-Sx"
      },
      "outputs": [],
      "source": [
        "nr = 1000 # number of computational grids\n",
        "nz = 1000\n",
        "h =2/nr # spacing of computational grid [m]\n",
        "e = 0.03 # interfacial thickness [m]"
      ]
    },
    {
      "cell_type": "code",
      "execution_count": 3,
      "metadata": {},
      "outputs": [],
      "source": [
        "cy=np.zeros((nz,nr))\n",
        "for i in range(nr):\n",
        "  cy[:,i]=np.ones(nz)*(i+0.5)"
      ]
    },
    {
      "cell_type": "code",
      "execution_count": 4,
      "metadata": {},
      "outputs": [],
      "source": [
        "simpson=np.ones((nz,nr))\n",
        "for i in range(nz):\n",
        "    for j in range(nr):\n",
        "        if i==0 or i==nr-1:\n",
        "            ki=1\n",
        "        elif i%2==0 and i!=nr-1:\n",
        "            ki=2\n",
        "        else:\n",
        "            ki=4\n",
        "        if j==0 or j==nz-1:\n",
        "            kj=1\n",
        "        elif j%2==0 and j!=nz-1:\n",
        "            kj=2\n",
        "        else:\n",
        "            kj=4\n",
        "        simpson[i,j]=simpson[i,j]*ki*kj"
      ]
    },
    {
      "cell_type": "code",
      "execution_count": 5,
      "metadata": {
        "id": "c2Yni-mjmci-"
      },
      "outputs": [],
      "source": [
        "mr = int(nr+1)\n",
        "mz = int(nz/2+1)\n",
        "kr=fftfreq(mr)*mr*2*pi/(2*h*nr)\n",
        "kz=fftfreq(mz)*mz*2*pi/(h*nz)\n",
        "filter_r=np.ones((nz,mr))\n",
        "filter_r[:,int(2*mr/3):]=0\n",
        "filter_z=np.ones((mz,nr))\n",
        "filter_z[int(2*mz/3):,:]=0"
      ]
    },
    {
      "cell_type": "code",
      "execution_count": 6,
      "metadata": {},
      "outputs": [],
      "source": [
        "def aliasing(u):\n",
        "    u=complete(u)\n",
        "    uw_r=rfft2(u,axes=(-2,-1))\n",
        "    uw_r_f=uw_r*filter_r\n",
        "    u_r_f=irfft2(uw_r_f,axes=(-2,-1))[:,:nr]\n",
        "\n",
        "    uw_z=rfft2(u_r_f,axes=(-1,-2))\n",
        "    uw_z_f=uw_z*filter_z\n",
        "    u_f=irfft2(uw_z_f,axes=(-1,-2))\n",
        "    return u_f"
      ]
    },
    {
      "cell_type": "code",
      "execution_count": 7,
      "metadata": {
        "id": "nsZGTaZWFV4N"
      },
      "outputs": [],
      "source": [
        "u0 = np.zeros((nz, nr))\n",
        "for i in range(nz):\n",
        "    for j in range(nr):\n",
        "        r = np.sqrt((i*h-1)**2+((j+0.5)*h)**2)\n",
        "        u0[i,j] = (np.tanh((0.6404-r)/(np.sqrt(2)*e)))"
      ]
    },
    {
      "cell_type": "code",
      "execution_count": 8,
      "metadata": {
        "id": "C2HBvVW6G6GD"
      },
      "outputs": [],
      "source": [
        "def complete(f):\n",
        "  f_r=np.fliplr(f)\n",
        "  f_c=concatenate([f,f_r],1)\n",
        "  return f_c"
      ]
    },
    {
      "cell_type": "code",
      "execution_count": 9,
      "metadata": {},
      "outputs": [],
      "source": [
        "class derivative:\n",
        "\n",
        "    def __init__(self,u):\n",
        "        self.u=u\n",
        "        self.c=complete(u)\n",
        "        self.ftr=rfft2(self.c,axes=(-2,-1))\n",
        "        self.ftz=rfft2(self.u,axes=(-1,-2))\n",
        "\n",
        "\n",
        "    def dr(self):\n",
        "        fr_c=irfft2(1.0j*kr*self.ftr,axes=(-2,-1))\n",
        "        fr=fr_c[:,:nr]\n",
        "        return fr\n",
        "\n",
        "    def dz(self):\n",
        "        ftz=self.ftz\n",
        "        fz=irfft2(1.0j*ftz*np.array([kz]).T,axes=(-1,-2))\n",
        "        return fz\n",
        "    \n",
        "    def drr(self):\n",
        "        ftrr=self.ftr\n",
        "        ffr_c=irfft2(ftrr*(1.0j*kr)**2)\n",
        "        frr=ffr_c[:,:nr]\n",
        "        return frr\n",
        "\n",
        "    def dzz(self):\n",
        "        ftzz=self.ftz\n",
        "        fzz=irfft2(ftzz*(1.0j*np.array([kz]).T)**2,axes=(-1,-2))\n",
        "        return fzz"
      ]
    },
    {
      "cell_type": "code",
      "execution_count": 10,
      "metadata": {},
      "outputs": [],
      "source": [
        "initial=derivative(u0)\n",
        "dr=initial.dr()\n",
        "dz=initial.dz()\n",
        "drr=initial.drr()\n",
        "dzz=initial.dzz()"
      ]
    },
    {
      "cell_type": "code",
      "execution_count": 11,
      "metadata": {},
      "outputs": [],
      "source": [
        "class property:\n",
        "    def __init__(self,u,dru,dzu):\n",
        "        self.u=u\n",
        "        self.dr=dru\n",
        "        self.dz=dzu\n",
        "    def V(self):\n",
        "        v=0.5*(1+self.u)*cy*simpson\n",
        "        V=np.sum(v)*(h**3)*pi*2/9\n",
        "        return V\n",
        "\n",
        "    def S(self):\n",
        "        gf2=self.dr**2+self.dz**2\n",
        "        b=e*gf2/2+(self.u**2-1)**2/(4*e)\n",
        "        s=cy*b*simpson\n",
        "        S=np.sum(s)*(h**3)*3/(2*np.sqrt(2))*pi*2/9\n",
        "        return S"
      ]
    },
    {
      "cell_type": "code",
      "execution_count": 12,
      "metadata": {},
      "outputs": [],
      "source": [
        "restrain=property(u0,dr,dz)\n",
        "V0=restrain.V()\n",
        "S0=restrain.S()"
      ]
    },
    {
      "cell_type": "code",
      "execution_count": 13,
      "metadata": {},
      "outputs": [
        {
          "name": "stdout",
          "output_type": "stream",
          "text": [
            "1.1120362084038724 5.160909145273159\n"
          ]
        }
      ],
      "source": [
        "print(V0,S0)"
      ]
    },
    {
      "cell_type": "code",
      "execution_count": 14,
      "metadata": {},
      "outputs": [
        {
          "data": {
            "image/png": "[encoded data removed]",
            "text/plain": [
              "<Figure size 432x288 with 2 Axes>"
            ]
          },
          "metadata": {
            "needs_background": "light"
          },
          "output_type": "display_data"
        }
      ],
      "source": [
        "X=dr\n",
        "fig = plt.figure()\n",
        "plt.imshow(X,cmap=\"Reds\")\n",
        "plt.title(\"Plot 2D array\")\n",
        "plt.grid()\n",
        "#plt.xticks(np.arange(0, ny, step=ny/10))\n",
        "#plt.yticks(np.arange(0, nx, step=nx/10))\n",
        "plt.colorbar()\n",
        "plt.show()"
      ]
    },
    {
      "cell_type": "code",
      "execution_count": 15,
      "metadata": {},
      "outputs": [
        {
          "data": {
            "text/plain": [
              "[<matplotlib.lines.Line2D at 0x7fd9aab01f70>]"
            ]
          },
          "execution_count": 15,
          "metadata": {},
          "output_type": "execute_result"
        },
        {
          "data": {
            "image/png": "[encoded data removed]",
            "text/plain": [
              "<Figure size 432x288 with 1 Axes>"
            ]
          },
          "metadata": {
            "needs_background": "light"
          },
          "output_type": "display_data"
        }
      ],
      "source": [
        "plt.plot(dr[:,0])"
      ]
    },
    {
      "cell_type": "code",
      "execution_count": 16,
      "metadata": {},
      "outputs": [
        {
          "data": {
            "text/plain": [
              "[<matplotlib.lines.Line2D at 0x7fd9aab7e7f0>]"
            ]
          },
          "execution_count": 16,
          "metadata": {},
          "output_type": "execute_result"
        },
        {
          "data": {
            "image/png": "[encoded data removed]",
            "text/plain": [
              "<Figure size 432x288 with 1 Axes>"
            ]
          },
          "metadata": {
            "needs_background": "light"
          },
          "output_type": "display_data"
        }
      ],
      "source": [
        "plt.plot(dr[50,:])"
      ]
    },
    {
      "cell_type": "code",
      "execution_count": 17,
      "metadata": {},
      "outputs": [],
      "source": [
        "def c_laplacian(f):\n",
        "    initial=derivative(f)\n",
        "    dr=initial.dr()\n",
        "    drr=initial.drr()\n",
        "    dzz=initial.dzz()\n",
        "    clu=drr+dzz+dr/cy\n",
        "    return clu"
      ]
    },
    {
      "cell_type": "code",
      "execution_count": 18,
      "metadata": {},
      "outputs": [],
      "source": [
        "class energy:\n",
        "\n",
        "    def __init__(self,u,V,S):\n",
        "        self.u=u\n",
        "        self.V=V\n",
        "        self.S=S\n",
        "        self.ru=c_laplacian(u)\n",
        "\n",
        "    def E(self):\n",
        "        dE=k*e*(self.ru+(self.u-self.u**3)/e**2)**2/2\n",
        "        E=np.sum(dE*cy*simpson)*(h**3)*2*pi/9 +M1*(self.V-alpha)**2/2+M2*(self.S-beta)**2/2\n",
        "        return E\n",
        "\n",
        "    def gfE(self):\n",
        "        r2u=c_laplacian(self.ru)\n",
        "        ru3=c_laplacian(self.u**3)\n",
        "        dE=k*(e*r2u+(1-3*self.u**2)*self.ru/e+(self.u-self.u**3)*(1-3*self.u**2)/(e**3)-(ru3-self.ru)/e)\n",
        "        A=(self.V-alpha)*0.5\n",
        "        B=(self.S-beta)*((self.u**3-self.u)/e-self.ru*e)\n",
        "        dEh=dE+M1*A+M2*B\n",
        "        return dEh"
      ]
    },
    {
      "cell_type": "code",
      "execution_count": 19,
      "metadata": {
        "id": "kIQhaK8BFSlv"
      },
      "outputs": [],
      "source": [
        "M1=100000\n",
        "M2=100000\n",
        "alpha= 1.11\n",
        "beta= 7.0004\n",
        "k = 1 # bending rigidcy\n",
        "c0 = 0"
      ]
    },
    {
      "cell_type": "code",
      "execution_count": 20,
      "metadata": {},
      "outputs": [],
      "source": [
        "EBE0=energy(u0,V0,S0)\n",
        "E_0=EBE0.E()"
      ]
    },
    {
      "cell_type": "code",
      "execution_count": 21,
      "metadata": {},
      "outputs": [
        {
          "name": "stdout",
          "output_type": "stream",
          "text": [
            "169192.48509412378\n"
          ]
        }
      ],
      "source": [
        "print(E_0)"
      ]
    },
    {
      "cell_type": "code",
      "execution_count": 22,
      "metadata": {},
      "outputs": [],
      "source": [
        "def foward_eular(u0,nsteps,dt0):\n",
        "    u=u0\n",
        "    dt=dt0\n",
        "\n",
        "    U=[]\n",
        "    E=[]\n",
        "    T=[]\n",
        "    U_append = U.append\n",
        "    E_append = E.append\n",
        "    T_append = T.append\n",
        "\n",
        "    \n",
        "\n",
        "    for t in range(nsteps):\n",
        "        der=derivative(u)\n",
        "        dr,dz=der.dr(),der.dz()\n",
        "\n",
        "        restrain=property(u,dr,dz)\n",
        "        V,S=restrain.V(),restrain.S()\n",
        "\n",
        "        EBE=energy(u,V,S)\n",
        "        E_o,dEh=EBE.E(),EBE.gfE()\n",
        "        \n",
        "        origin=u-dEh*dt\n",
        "        u_n=aliasing(origin)\n",
        "        #u_n=u-dEh*dt\n",
        "\n",
        "        der=derivative(u_n)\n",
        "        dr,dz=der.dr(),der.dz()\n",
        "\n",
        "        restrain=property(u_n,dr,dz)\n",
        "        V,S=restrain.V(),restrain.S()\n",
        "\n",
        "        EBE=energy(u_n,V,S)\n",
        "        E_n=EBE.E()\n",
        "\n",
        "        if E_n>E_o:\n",
        "            dt=0.5*dt\n",
        "            continue\n",
        "        else:\n",
        "            u=u_n\n",
        "            U_append(u)\n",
        "            E_append(E_n)\n",
        "            T_append(dt)\n",
        "            \n",
        "        if t%10==0 and t!=0 :\n",
        "            dt=2*dt\n",
        "\n",
        "\n",
        "    N=len(U)\n",
        "    threshold=np.zeros((nz,nr))\n",
        "    for i in range(nz):\n",
        "      for j in range(nr):\n",
        "        threshold[i,j]=abs(U[N-1][i,j])*1.0e-4-abs(U[N-1][i,j]-U[N-2][i,j])\n",
        "    if np.min(threshold)>=0:\n",
        "      print(N-1,'歩以内でよく収束できましたことが',np.all(threshold>=0))\n",
        "    else :\n",
        "      print(N-1,'歩以内でよく収束することができませんでした',np.all(threshold>=0))\n",
        "    return U,E,T,N"
      ]
    },
    {
      "cell_type": "code",
      "execution_count": 23,
      "metadata": {
        "id": "CoQ3JeS1lTxG"
      },
      "outputs": [],
      "source": [
        "nsteps=5\n",
        "dt=1.0e-6"
      ]
    },
    {
      "cell_type": "code",
      "execution_count": 24,
      "metadata": {
        "colab": {
          "base_uri": "https://localhost:8080/"
        },
        "id": "jGzwxJ4fqwwR",
        "outputId": "0b09000f-474c-43f8-883e-e913b0bb5402"
      },
      "outputs": [
        {
          "name": "stdout",
          "output_type": "stream",
          "text": [
            "1 歩以内でよく収束することができませんでした False\n"
          ]
        }
      ],
      "source": [
        "U,E,T,N=foward_eular(u0,nsteps,dt)"
      ]
    },
    {
      "cell_type": "code",
      "execution_count": 25,
      "metadata": {},
      "outputs": [],
      "source": [
        "data=U[N-1]\n",
        "np.savetxt(\"output.csv\", data, delimiter=\",\")"
      ]
    },
    {
      "cell_type": "code",
      "execution_count": 26,
      "metadata": {
        "colab": {
          "base_uri": "https://localhost:8080/",
          "height": 281
        },
        "id": "9N_qFTfi6Pu_",
        "outputId": "49c35b5e-4ba1-4be9-b1e3-89c006661477"
      },
      "outputs": [
        {
          "data": {
            "image/png": "[encoded data removed]",
            "text/plain": [
              "<Figure size 432x288 with 2 Axes>"
            ]
          },
          "metadata": {
            "needs_background": "light"
          },
          "output_type": "display_data"
        }
      ],
      "source": [
        "X=U[N-1]\n",
        "\n",
        "fig = plt.figure()\n",
        "plt.imshow(X,cmap=\"Reds\")\n",
        "plt.title(\"Plot 2D array\")\n",
        "plt.grid()\n",
        "#plt.xticks(np.arange(0, ny, step=ny/10))\n",
        "#plt.yticks(np.arange(0, nx, step=nx/10))\n",
        "plt.colorbar()\n",
        "plt.show()"
      ]
    },
    {
      "cell_type": "code",
      "execution_count": 27,
      "metadata": {},
      "outputs": [
        {
          "name": "stdout",
          "output_type": "stream",
          "text": [
            "1.1589669628940904 6.652445338382865\n"
          ]
        }
      ],
      "source": [
        "der=derivative(U[N-1])\n",
        "dr=der.dr()\n",
        "dz=der.dz()\n",
        "restrain=property(U[N-1],dr,dz)\n",
        "V=restrain.V()\n",
        "S=restrain.S()\n",
        "print(V,S)"
      ]
    },
    {
      "cell_type": "code",
      "execution_count": 28,
      "metadata": {
        "colab": {
          "base_uri": "https://localhost:8080/",
          "height": 265
        },
        "id": "Z23Pwx2JCWUH",
        "outputId": "71449a2c-8702-4bdd-98cd-4893fffe4a29"
      },
      "outputs": [
        {
          "data": {
            "image/png": "[encoded data removed]",
            "text/plain": [
              "<Figure size 432x288 with 1 Axes>"
            ]
          },
          "metadata": {
            "needs_background": "light"
          },
          "output_type": "display_data"
        }
      ],
      "source": [
        "plt.plot(u0[:,0])\n",
        "plt.plot(U[N-1][:,0])\n",
        "plt.grid()"
      ]
    },
    {
      "cell_type": "code",
      "execution_count": 29,
      "metadata": {},
      "outputs": [
        {
          "data": {
            "image/png": "[encoded data removed]",
            "text/plain": [
              "<Figure size 432x288 with 1 Axes>"
            ]
          },
          "metadata": {
            "needs_background": "light"
          },
          "output_type": "display_data"
        }
      ],
      "source": [
        "plt.plot(u0[50,:])\n",
        "plt.plot(U[N-1][50,:])\n",
        "plt.grid()"
      ]
    },
    {
      "cell_type": "code",
      "execution_count": 30,
      "metadata": {},
      "outputs": [
        {
          "data": {
            "text/plain": [
              "[<matplotlib.lines.Line2D at 0x7fd9f3aa7d00>]"
            ]
          },
          "execution_count": 30,
          "metadata": {},
          "output_type": "execute_result"
        },
        {
          "data": {
            "image/png": "[encoded data removed]",
            "text/plain": [
              "<Figure size 432x288 with 1 Axes>"
            ]
          },
          "metadata": {
            "needs_background": "light"
          },
          "output_type": "display_data"
        }
      ],
      "source": [
        "plt.plot(U[N-1][10:20,0],linestyle = \"--\")"
      ]
    },
    {
      "cell_type": "code",
      "execution_count": 31,
      "metadata": {
        "colab": {
          "base_uri": "https://localhost:8080/"
        },
        "id": "HvrIX_6ZL77-",
        "outputId": "482441d4-747b-4c07-dcf6-dd73f7b3c158"
      },
      "outputs": [
        {
          "name": "stdout",
          "output_type": "stream",
          "text": [
            "1.0927582002896794\n",
            "-1.0558211383928469\n",
            "0.14857933868252626\n"
          ]
        }
      ],
      "source": [
        "print(np.max(U[N-1]))\n",
        "print(np.min(U[N-1]))\n",
        "print(np.max(U[N-1])-np.min(U[N-1])-2)"
      ]
    },
    {
      "cell_type": "code",
      "execution_count": 32,
      "metadata": {
        "colab": {
          "base_uri": "https://localhost:8080/",
          "height": 282
        },
        "id": "obVZG1V76yDV",
        "outputId": "9543ad64-a383-4ede-95e3-3e6d21ee624f"
      },
      "outputs": [
        {
          "data": {
            "text/plain": [
              "[<matplotlib.lines.Line2D at 0x7fd9ae5ff760>]"
            ]
          },
          "execution_count": 32,
          "metadata": {},
          "output_type": "execute_result"
        },
        {
          "data": {
            "image/png": "[encoded data removed]",
            "text/plain": [
              "<Figure size 432x288 with 1 Axes>"
            ]
          },
          "metadata": {
            "needs_background": "light"
          },
          "output_type": "display_data"
        }
      ],
      "source": [
        "plt.plot(E)"
      ]
    },
    {
      "cell_type": "code",
      "execution_count": 33,
      "metadata": {
        "colab": {
          "base_uri": "https://localhost:8080/"
        },
        "id": "zmCUlWff8Ntx",
        "outputId": "9654abd3-b1a7-4dcb-b0ce-fafc29b3b41c"
      },
      "outputs": [
        {
          "name": "stdout",
          "output_type": "stream",
          "text": [
            "[144080.6356133715]\n"
          ]
        }
      ],
      "source": [
        "print(E[N-11:N-1])"
      ]
    },
    {
      "cell_type": "code",
      "execution_count": 34,
      "metadata": {
        "colab": {
          "base_uri": "https://localhost:8080/",
          "height": 293
        },
        "id": "wBplmCZa60xZ",
        "outputId": "25861884-1434-4bd6-b7f9-37c5c507cd09"
      },
      "outputs": [
        {
          "data": {
            "text/plain": [
              "[<matplotlib.lines.Line2D at 0x7fd9ae62e220>]"
            ]
          },
          "execution_count": 34,
          "metadata": {},
          "output_type": "execute_result"
        },
        {
          "data": {
            "image/png": "[encoded data removed]",
            "text/plain": [
              "<Figure size 432x288 with 1 Axes>"
            ]
          },
          "metadata": {
            "needs_background": "light"
          },
          "output_type": "display_data"
        }
      ],
      "source": [
        "plt.plot(T)"
      ]
    },
    {
      "cell_type": "code",
      "execution_count": 35,
      "metadata": {
        "colab": {
          "base_uri": "https://localhost:8080/"
        },
        "id": "mBKU8Fda7L2_",
        "outputId": "a8f2bff0-0ec7-431c-9d37-cf83988d5fdf"
      },
      "outputs": [
        {
          "name": "stdout",
          "output_type": "stream",
          "text": [
            "[1e-06]\n"
          ]
        }
      ],
      "source": [
        "print(T[N-11:N-1])"
      ]
    },
    {
      "cell_type": "code",
      "execution_count": 36,
      "metadata": {
        "colab": {
          "base_uri": "https://localhost:8080/"
        },
        "id": "-DkZ2Jo_F5gj",
        "outputId": "1dd4b740-9c85-4fc1-e054-b15bdfb98217"
      },
      "outputs": [
        {
          "name": "stdout",
          "output_type": "stream",
          "text": [
            "2e-06\n"
          ]
        }
      ],
      "source": [
        "print(sum(T))"
      ]
    },
    {
      "cell_type": "code",
      "execution_count": 37,
      "metadata": {
        "colab": {
          "base_uri": "https://localhost:8080/"
        },
        "id": "Fks5W_WZSJTv",
        "outputId": "9e4d88c2-260d-4583-df74-aaaa979c1c4b"
      },
      "outputs": [
        {
          "name": "stdout",
          "output_type": "stream",
          "text": [
            "ModeResult(mode=array([1.e-06]), count=array([2]))\n"
          ]
        }
      ],
      "source": [
        "import scipy.stats as stats\n",
        "print(stats.mode(T))"
      ]
    },
    {
      "cell_type": "code",
      "execution_count": null,
      "metadata": {},
      "outputs": [],
      "source": []
    }
  ],
  "metadata": {
    "colab": {
      "collapsed_sections": [],
      "name": "2dfft_stagard_test.ipynb のコピー",
      "provenance": []
    },
    "kernelspec": {
      "display_name": "Python 3.9.7 ('base')",
      "language": "python",
      "name": "python3"
    },
    "language_info": {
      "codemirror_mode": {
        "name": "ipython",
        "version": 3
      },
      "file_extension": ".py",
      "mimetype": "text/x-python",
      "name": "python",
      "nbconvert_exporter": "python",
      "pygments_lexer": "ipython3",
      "version": "3.9.7"
    },
    "vscode": {
      "interpreter": {
        "hash": "77dd709dc3e70639f06232eaa81c6d32d07736344c7bf65d17731c2f36018c1b"
      }
    }
  },
  "nbformat": 4,
  "nbformat_minor": 0
}
